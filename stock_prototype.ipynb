# 📈 Stock Classification Prototype
# Run this notebook locally
# Requirements: yfinance, pandas, numpy, plotly, ta, fastapi (optional)

# Install packages if needed
# !pip install yfinance pandas numpy plotly ta fastapi uvicorn

import yfinance as yf
import pandas as pd
import numpy as np
import plotly.graph_objects as go

# ---------------------------
# 1. Data Ingestion
# ---------------------------
def get_data(ticker="AAPL", period="6mo", interval="1d"):
    df = yf.download(ticker, period=period, interval=interval)
    df.dropna(inplace=True)
    return df

# ---------------------------
# 2. Swing High / Swing Low
# ---------------------------
def find_swings(df, window=5):
    df["swing_high"] = df["High"][(df["High"] == df["High"].rolling(window, center=True).max())]
    df["swing_low"] = df["Low"][(df["Low"] == df["Low"].rolling(window, center=True).min())]
    return df

# ---------------------------
# 3. Breakout / Breakdown
# ---------------------------
def classify_breakouts(df, lookback=20):
    df["recent_high"] = df["High"].rolling(lookback).max()
    df["recent_low"] = df["Low"].rolling(lookback).min()
    
    df["breakout"] = df["Close"] > df["recent_high"].shift(1)
    df["breakdown"] = df["Close"] < df["recent_low"].shift(1)
    return df

# ---------------------------
# 4. Trend Classification
# ---------------------------
def classify_trend(df):
    df["ma20"] = df["Close"].rolling(20).mean()
    df["ma50"] = df["Close"].rolling(50).mean()

    conditions = [
        (df["ma20"] > df["ma50"]) & ~df["breakout"],
        (df["ma20"] < df["ma50"]) & ~df["breakdown"],
        df["breakout"],
        df["breakdown"]
    ]
    categories = ["Uptrend", "Downtrend", "Breakout", "Breakdown"]

    df["classification"] = np.select(conditions, categories, default="Neutral")
    return df

# ---------------------------
# 5. Plotting
# ---------------------------
def plot_stock(df, ticker="AAPL"):
    fig = go.Figure(data=[go.Candlestick(
        x=df.index,
        open=df['Open'],
        high=df['High'],
        low=df['Low'],
        close=df['Close'],
        name=ticker
    )])
    
    # Swing points
    fig.add_trace(go.Scatter(x=df.index, y=df["swing_high"], 
                             mode="markers", marker=dict(color="green", size=8), name="Swing High"))
    fig.add_trace(go.Scatter(x=df.index, y=df["swing_low"], 
                             mode="markers", marker=dict(color="red", size=8), name="Swing Low"))
    
    # Breakouts / Breakdowns
    fig.add_trace(go.Scatter(x=df.index[df["breakout"]], 
                             y=df["Close"][df["breakout"]], 
                             mode="markers", marker=dict(color="blue", size=10, symbol="triangle-up"), 
                             name="Breakout"))
    fig.add_trace(go.Scatter(x=df.index[df["breakdown"]], 
                             y=df["Close"][df["breakdown"]], 
                             mode="markers", marker=dict(color="black", size=10, symbol="triangle-down"), 
                             name="Breakdown"))
    
    fig.update_layout(title=f"{ticker} Classification Prototype", 
                      yaxis_title="Price", xaxis_title="Date",
                      template="plotly_white")
    fig.show()

# ---------------------------
# 6. Run Prototype
# ---------------------------
ticker = "AAPL"
df = get_data(ticker, period="6mo", interval="1d")
df = find_swings(df)
df = classify_breakouts(df)
df = classify_trend(df)

print(df[["Close", "classification"]].tail(10))

plot_stock(df, ticker)
